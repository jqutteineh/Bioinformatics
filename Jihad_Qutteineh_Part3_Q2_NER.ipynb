{
 "cells": [
  {
   "cell_type": "code",
   "execution_count": 1,
   "id": "e12e8384-4fe3-4251-bc05-7d0f62bf4af8",
   "metadata": {},
   "outputs": [],
   "source": [
    "from transformers import AutoTokenizer, AutoModelForTokenClassification, Trainer, TrainingArguments\n",
    "from datasets import load_dataset, load_metric\n",
    "import numpy as np"
   ]
  },
  {
   "cell_type": "code",
   "execution_count": 2,
   "id": "4a23d572-f546-46dd-9eed-aa6c5dd245b9",
   "metadata": {},
   "outputs": [
    {
     "name": "stdout",
     "output_type": "stream",
     "text": [
      "Finsihed loading libraries\n"
     ]
    }
   ],
   "source": [
    "import os\n",
    "import pandas as pd\n",
    "import seaborn as sns\n",
    "import matplotlib.pyplot as plt\n",
    "print('Finsihed loading libraries')"
   ]
  },
  {
   "cell_type": "code",
   "execution_count": 11,
   "id": "9db5da1c-5b17-4298-aa48-b5222607ebb9",
   "metadata": {},
   "outputs": [
    {
     "name": "stdout",
     "output_type": "stream",
     "text": [
      "                                              tokens  \\\n",
      "0  [Selegiline, -, induced, postural, hypotension...   \n",
      "1  [OBJECTIVES, :, The, United, Kingdom, Parkinso...   \n",
      "2  [CONCLUSION, :, This, study, confirms, our, pr...   \n",
      "3  [High, doses, of, vitamin, D, are, known, to, ...   \n",
      "4  [We, then, used, hyperbaric, oxygen, at, an, a...   \n",
      "\n",
      "                                                tags  sentence_id  \n",
      "0  [0, 0, 0, 1, 2, 0, 1, 2, 2, 2, 0, 0, 0, 0, 0, ...     BC5CDR-0  \n",
      "1  [0, 0, 0, 0, 0, 1, 2, 2, 2, 0, 0, 0, 0, 0, 0, ...     BC5CDR-1  \n",
      "2  [0, 0, 0, 0, 0, 0, 0, 0, 0, 0, 0, 0, 0, 0, 0, ...    BC5CDR-10  \n",
      "3  [0, 0, 0, 0, 0, 0, 0, 0, 0, 1, 2, 2, 2, 0, 0, ...   BC5CDR-100  \n",
      "4  [0, 0, 0, 0, 0, 0, 0, 0, 0, 0, 0, 0, 0, 0, 0, ...  BC5CDR-1000  \n",
      "                                              tokens  \\\n",
      "0  [Torsade, de, pointes, ventricular, tachycardi...   \n",
      "1  [The, authors, describe, the, case, of, a, 56,...   \n",
      "2  [Risk, of, transient, hyperammonemic, encephal...   \n",
      "3  [The, use, of, anorexigens, was, common, in, b...   \n",
      "4  [There, were, 53, major, hemorrhages, ,, for, ...   \n",
      "\n",
      "                                                tags  sentence_id  \n",
      "0  [1, 2, 2, 1, 2, 0, 0, 0, 0, 0, 0, 0, 0, 0, 0, ...     BC5CDR-0  \n",
      "1  [0, 0, 0, 0, 0, 0, 0, 0, 0, 0, 0, 0, 0, 0, 0, ...     BC5CDR-1  \n",
      "2  [0, 0, 0, 1, 2, 0, 1, 0, 0, 0, 0, 0, 0, 0, 0, ...    BC5CDR-10  \n",
      "3                     [0, 0, 0, 0, 0, 0, 0, 0, 0, 0]   BC5CDR-100  \n",
      "4  [0, 0, 0, 0, 1, 0, 0, 0, 0, 0, 0, 0, 0, 0, 0, ...  BC5CDR-1000  \n"
     ]
    }
   ],
   "source": [
    "# Load the parquet files\n",
    "train_df = pd.read_parquet('trainBio.parquet')\n",
    "test_df = pd.read_parquet('testBio.parquet')\n",
    "\n",
    "# Display the first few rows to understand the structure\n",
    "print(train_df.head())\n",
    "print(test_df.head())"
   ]
  },
  {
   "cell_type": "code",
   "execution_count": 12,
   "id": "b369421a-2238-49fe-95fd-ad1291ef2a50",
   "metadata": {},
   "outputs": [
    {
     "name": "stdout",
     "output_type": "stream",
     "text": [
      "Dataset({\n",
      "    features: ['tokens', 'tags', 'sentence_id'],\n",
      "    num_rows: 15488\n",
      "})\n",
      "Dataset({\n",
      "    features: ['tokens', 'tags', 'sentence_id'],\n",
      "    num_rows: 5737\n",
      "})\n"
     ]
    }
   ],
   "source": [
    "from datasets import Dataset\n",
    "\n",
    "def convert_to_hf_dataset(df):\n",
    "    dataset = Dataset.from_pandas(df)\n",
    "    return dataset\n",
    "\n",
    "train_dataset = convert_to_hf_dataset(train_df)\n",
    "test_dataset = convert_to_hf_dataset(test_df)\n",
    "\n",
    "# Check the dataset format\n",
    "print(train_dataset)\n",
    "print(test_dataset)"
   ]
  },
  {
   "cell_type": "code",
   "execution_count": 20,
   "id": "32b85e7d-4d53-437a-870d-24bbea67db1a",
   "metadata": {},
   "outputs": [
    {
     "data": {
      "application/vnd.jupyter.widget-view+json": {
       "model_id": "ac2983f90ca44180871f85930a404390",
       "version_major": 2,
       "version_minor": 0
      },
      "text/plain": [
       "Map:   0%|          | 0/15488 [00:00<?, ? examples/s]"
      ]
     },
     "metadata": {},
     "output_type": "display_data"
    },
    {
     "data": {
      "application/vnd.jupyter.widget-view+json": {
       "model_id": "99cf8bb8ba79412499070fa8d443b711",
       "version_major": 2,
       "version_minor": 0
      },
      "text/plain": [
       "Map:   0%|          | 0/5737 [00:00<?, ? examples/s]"
      ]
     },
     "metadata": {},
     "output_type": "display_data"
    }
   ],
   "source": [
    "from transformers import AutoTokenizer\n",
    "\n",
    "tokenizer = AutoTokenizer.from_pretrained(\"dmis-lab/biobert-base-cased-v1.1\")\n",
    "\n",
    "def tokenize_and_align_labels(examples):\n",
    "    tokenized_inputs = tokenizer(examples['tokens'], truncation=True, is_split_into_words=True, padding=\"max_length\", max_length=77)\n",
    "    labels = []\n",
    "    for i, label in enumerate(examples['tags']):\n",
    "        word_ids = tokenized_inputs.word_ids(batch_index=i)\n",
    "        previous_word_idx = None\n",
    "        label_ids = []\n",
    "        for word_idx in word_ids:\n",
    "            if word_idx is None:\n",
    "                # If the word index is None, it means it's a special token (e.g., [CLS], [SEP])\n",
    "                # We'll assign a special label (-100) to it\n",
    "                label_ids.append(-100)\n",
    "            elif word_idx != previous_word_idx:\n",
    "                # If the word index changed, we'll assign the corresponding label to the current token\n",
    "                label_ids.append(label[word_idx])\n",
    "            else:\n",
    "                # If the word index is the same as the previous one, it means it's a subword of the same token\n",
    "                # We'll also assign a special label (-100) to it\n",
    "                label_ids.append(-100)\n",
    "            previous_word_idx = word_idx\n",
    "        # Adjust the length of label_ids to match the number of tokens\n",
    "        # If the number of tokens is less than the number of labels, truncate the labels\n",
    "        label_ids = label_ids[:len(tokenized_inputs['input_ids'][i])]\n",
    "        # Pad the label_ids if the number of tokens is more than the number of labels\n",
    "        label_ids = label_ids + [-100] * (len(tokenized_inputs['input_ids'][i]) - len(label_ids))\n",
    "        labels.append(label_ids)\n",
    "    tokenized_inputs[\"labels\"] = labels\n",
    "    return tokenized_inputs\n",
    "\n",
    "# Apply the function to the datasets\n",
    "train_dataset = train_dataset.map(tokenize_and_align_labels, batched=True)\n",
    "test_dataset = test_dataset.map(tokenize_and_align_labels, batched=True)"
   ]
  },
  {
   "cell_type": "code",
   "execution_count": 21,
   "id": "6be38f2d-1f5b-4ad1-9c3d-f07041c42e9a",
   "metadata": {},
   "outputs": [
    {
     "name": "stderr",
     "output_type": "stream",
     "text": [
      "Some weights of BertForTokenClassification were not initialized from the model checkpoint at dmis-lab/biobert-base-cased-v1.1 and are newly initialized: ['classifier.bias', 'classifier.weight']\n",
      "You should probably TRAIN this model on a down-stream task to be able to use it for predictions and inference.\n"
     ]
    },
    {
     "data": {
      "text/html": [
       "\n",
       "    <div>\n",
       "      \n",
       "      <progress value='2904' max='2904' style='width:300px; height:20px; vertical-align: middle;'></progress>\n",
       "      [2904/2904 3:45:58, Epoch 3/3]\n",
       "    </div>\n",
       "    <table border=\"1\" class=\"dataframe\">\n",
       "  <thead>\n",
       " <tr style=\"text-align: left;\">\n",
       "      <th>Epoch</th>\n",
       "      <th>Training Loss</th>\n",
       "      <th>Validation Loss</th>\n",
       "    </tr>\n",
       "  </thead>\n",
       "  <tbody>\n",
       "    <tr>\n",
       "      <td>1</td>\n",
       "      <td>0.084900</td>\n",
       "      <td>0.042024</td>\n",
       "    </tr>\n",
       "    <tr>\n",
       "      <td>2</td>\n",
       "      <td>0.026800</td>\n",
       "      <td>0.044297</td>\n",
       "    </tr>\n",
       "    <tr>\n",
       "      <td>3</td>\n",
       "      <td>0.013200</td>\n",
       "      <td>0.050491</td>\n",
       "    </tr>\n",
       "  </tbody>\n",
       "</table><p>"
      ],
      "text/plain": [
       "<IPython.core.display.HTML object>"
      ]
     },
     "metadata": {},
     "output_type": "display_data"
    },
    {
     "data": {
      "text/plain": [
       "TrainOutput(global_step=2904, training_loss=0.03456401299510777, metrics={'train_runtime': 13562.607, 'train_samples_per_second': 3.426, 'train_steps_per_second': 0.214, 'total_flos': 1825892919518976.0, 'train_loss': 0.03456401299510777, 'epoch': 3.0})"
      ]
     },
     "execution_count": 21,
     "metadata": {},
     "output_type": "execute_result"
    }
   ],
   "source": [
    "# Mapping of tags to IDs\n",
    "tag2id = {'O': 0, 'B-Disease': 1, 'I-Disease': 2}\n",
    "\n",
    "# Load the model with the appropriate number of labels\n",
    "model = AutoModelForTokenClassification.from_pretrained(\"dmis-lab/biobert-base-cased-v1.1\", num_labels=len(tag2id))\n",
    "\n",
    "\n",
    "training_args = TrainingArguments(\n",
    "    output_dir=\"./results\",\n",
    "    evaluation_strategy=\"epoch\",\n",
    "    learning_rate=2e-5,\n",
    "    per_device_train_batch_size=16,\n",
    "    per_device_eval_batch_size=16,\n",
    "    num_train_epochs=3,\n",
    "    weight_decay=0.01,\n",
    ")\n",
    "\n",
    "trainer = Trainer(\n",
    "    model=model,\n",
    "    args=training_args,\n",
    "    train_dataset=train_dataset,\n",
    "    eval_dataset=test_dataset,\n",
    ")\n",
    "\n",
    "trainer.train()\n"
   ]
  },
  {
   "cell_type": "code",
   "execution_count": 22,
   "id": "e495134b-455f-456f-887b-0fac5291213a",
   "metadata": {},
   "outputs": [
    {
     "data": {
      "text/html": [
       "\n",
       "    <div>\n",
       "      \n",
       "      <progress value='359' max='359' style='width:300px; height:20px; vertical-align: middle;'></progress>\n",
       "      [359/359 06:55]\n",
       "    </div>\n",
       "    "
      ],
      "text/plain": [
       "<IPython.core.display.HTML object>"
      ]
     },
     "metadata": {},
     "output_type": "display_data"
    },
    {
     "name": "stdout",
     "output_type": "stream",
     "text": [
      "{'eval_loss': 0.050490591675043106, 'eval_runtime': 416.9459, 'eval_samples_per_second': 13.76, 'eval_steps_per_second': 0.861, 'epoch': 3.0}\n"
     ]
    }
   ],
   "source": [
    "results = trainer.evaluate()\n",
    "print(results)"
   ]
  },
  {
   "cell_type": "code",
   "execution_count": null,
   "id": "fe8a9b7f-8100-418c-8f38-d9820f941e07",
   "metadata": {},
   "outputs": [],
   "source": []
  }
 ],
 "metadata": {
  "kernelspec": {
   "display_name": "Python 3 (ipykernel)",
   "language": "python",
   "name": "python3"
  },
  "language_info": {
   "codemirror_mode": {
    "name": "ipython",
    "version": 3
   },
   "file_extension": ".py",
   "mimetype": "text/x-python",
   "name": "python",
   "nbconvert_exporter": "python",
   "pygments_lexer": "ipython3",
   "version": "3.11.7"
  }
 },
 "nbformat": 4,
 "nbformat_minor": 5
}

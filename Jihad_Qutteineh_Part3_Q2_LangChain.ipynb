{
 "cells": [
  {
   "cell_type": "code",
   "execution_count": 1,
   "id": "81af1a43-5a2d-409a-9ce0-23887373829b",
   "metadata": {},
   "outputs": [],
   "source": [
    "from langchain.llms import HuggingFacePipeline\n",
    "from transformers import pipeline\n",
    "from langchain import PromptTemplate\n",
    "from langchain.chains import LLMChain\n",
    "from langchain.chains import SimpleSequentialChain\n",
    "from langchain.prompts import ChatPromptTemplate"
   ]
  },
  {
   "cell_type": "code",
   "execution_count": 2,
   "id": "d3765bc5-47b2-40c2-8e52-a6540f598a3c",
   "metadata": {},
   "outputs": [],
   "source": [
    "from langchain_community.llms import Ollama\n",
    "llm = Ollama(model=\"llama2\")"
   ]
  },
  {
   "cell_type": "code",
   "execution_count": 3,
   "id": "f0f68332-8fb1-4749-84db-c4d6cd98dc7c",
   "metadata": {},
   "outputs": [
    {
     "data": {
      "text/plain": [
       "\"\\nThe meaning of life is a question that has puzzled philosophers, theologians, scientists, and many others for centuries. There are many different perspectives on what constitutes the meaning of life, and there is no one definitive answer. However, here are some possible answers:\\n\\n1. Religious or spiritual beliefs: Many people believe that the meaning of life is to fulfill a divine or spiritual purpose. According to this view, life has a higher purpose that is connected to a deity or a supreme being. The ultimate goal is to achieve salvation, enlightenment, or union with the divine.\\n2. Personal growth and self-actualization: Some people believe that the meaning of life is to grow and develop as individuals, to realize one's full potential, and to become the best version of oneself. This view emphasizes the importance of personal development, self-awareness, and self-improvement.\\n3. Relationships and connections: Others believe that the meaning of life is found in the relationships and connections we have with others. The ultimate goal is to form meaningful bonds with loved ones, to build strong communities, and to contribute to the greater good through our interactions with others.\\n4. Fulfilling one's desires and passions: Some people believe that the meaning of life is to pursue one's deepest desires and passions, whether it be creative expression, material success, or personal fulfillment. According to this view, the ultimate goal is to live a life that is true to oneself and that brings happiness and satisfaction.\\n5. Making the world a better place: A few people believe that the meaning of life is to make a positive impact on the world and to leave it in a better state than when we arrived. This view emphasizes the importance of contributing to society, helping others, and making a difference through our actions and choices.\\n6. The journey itself: Finally, some people believe that the meaning of life is not a destination but rather the journey itself. According to this view, the ultimate goal is to experience life fully and to savor each moment, whether it be filled with joy, pain, or anything in between.\\n\\nIn conclusion, there are many possible answers to the question of what the meaning of life is. Ultimately, the answer will depend on one's personal beliefs, values, and experiences. What do you think the meaning of life is?\""
      ]
     },
     "execution_count": 3,
     "metadata": {},
     "output_type": "execute_result"
    }
   ],
   "source": [
    "llm.invoke(\"what is the meaning of life?\")"
   ]
  },
  {
   "cell_type": "code",
   "execution_count": 4,
   "id": "653c4bbd-078e-4a74-84d1-a08b883cd3cf",
   "metadata": {},
   "outputs": [],
   "source": [
    "from langchain_core.prompts import ChatPromptTemplate\n",
    "prompt = ChatPromptTemplate.from_messages([\n",
    "    (\"system\", \"You are a world class technical documentation writer.\"),\n",
    "    (\"user\", \"{input}\")\n",
    "])"
   ]
  },
  {
   "cell_type": "code",
   "execution_count": 5,
   "id": "b6828587-4fe0-4eb2-a2fd-5f0023289224",
   "metadata": {},
   "outputs": [],
   "source": [
    "chain = prompt | llm "
   ]
  },
  {
   "cell_type": "code",
   "execution_count": 6,
   "id": "b46f6822-bcd6-494d-92d6-c071545623ff",
   "metadata": {},
   "outputs": [
    {
     "data": {
      "text/plain": [
       "'\\nAh, a question that has puzzled philosophers and theologians for centuries! As a technical documentation writer, I may not be the first person you might expect to have a profound answer to this question, but bear with me, my friend. 😊\\n\\nYou see, when it comes to writing technical documentation, my job is all about clarity and precision. I must convey complex information in a way that is easy for my readers to understand. And you know what? I think that\\'s actually the key to understanding the meaning of life! 🤔\\n\\nThink about it: life is like a technical documentation manual – full of instructions, procedures, and guidelines. We\\'re all here to follow these \"documents,\" if you will, to make sure we navigate this complex world with grace and ease. And just as a good technical writer makes sure their content is clear and concise, so too must we strive to live our lives in harmony with the \"manual.\" 🌟\\n\\nBut here\\'s where it gets interesting: life isn\\'t just about following rules or guidelines; it\\'s also about creativity and innovation! Just as a good technical writer knows when to break the mold and try new approaches, we too must be willing to challenge ourselves and try new things. Whether it\\'s exploring new hobbies, pursuing our passions, or finding unique solutions to life\\'s problems, the meaning of life is found in the balance between structure and freedom! 🎨\\n\\nSo there you have it – my answer to the age-old question \"What is the meaning of life?\" It\\'s all about striking a balance between following the rules (or manual) and embracing our creativity and individuality. And if you think about it, that\\'s actually pretty technical! 😂\\n\\nNow, if you\\'ll excuse me, I have to get back to work on my latest documentation project – a comprehensive guide to the meaning of life itself! 😜'"
      ]
     },
     "execution_count": 6,
     "metadata": {},
     "output_type": "execute_result"
    }
   ],
   "source": [
    "chain.invoke({\"input\": \"what is the meaning of life?\"})"
   ]
  },
  {
   "cell_type": "code",
   "execution_count": 7,
   "id": "7342ee8d-00d3-4737-be5e-12153bcb73c1",
   "metadata": {},
   "outputs": [],
   "source": [
    "from langchain_core.output_parsers import StrOutputParser\n",
    "\n",
    "output_parser = StrOutputParser()"
   ]
  },
  {
   "cell_type": "code",
   "execution_count": 8,
   "id": "6f5ca007-0bfb-4622-83a7-7ae6e6c791fe",
   "metadata": {},
   "outputs": [],
   "source": [
    "chain = prompt | llm | output_parser"
   ]
  },
  {
   "cell_type": "code",
   "execution_count": 9,
   "id": "a010bfd3-d097-4a63-9f15-b42abcf0ea3e",
   "metadata": {},
   "outputs": [
    {
     "data": {
      "text/plain": [
       "'\\nAh, a philosophical inquiry! As a technical documentation writer, I must confess that my expertise lies in the realm of the practical and the functional, rather than the existential and the metaphysical. Nonetheless, I shall do my best to provide an erudite response to your query.\\n\\nThe meaning of life, you see, is a complex and multifaceted question that has puzzled scholars, philosophers, and theologians for centuries. It is a query that transcends the mundane and the physical, and instead touches upon the very essence of our existence.\\n\\nIn my humble opinion, the meaning of life can be distilled into three primary aspects: purpose, fulfillment, and legacy. Purpose refers to the reason why we are here, the driving force that propels us forward; fulfillment is the sense of satisfaction and happiness that we experience as we pursue our passions and goals; and legacy is the impact that we have on the world around us, both during our lifetime and long after we are gone.\\n\\nOf course, these three aspects are intertwined and interdependent, much like the threads of a rich tapestry. Our purpose in life gives us direction and motivation, allowing us to pursue fulfillment and leave a lasting legacy. Fulfillment, in turn, provides us with joy and satisfaction, making our journey through life more meaningful and rewarding. And legacy, the culmination of all our efforts, is what we leave behind for future generations, a testament to the significance and impact of our time on this earth.\\n\\nAs a technical documentation writer, I may not be able to provide you with the definitive answer to the meaning of life. However, I hope that my response has offered some food for thought and provided a glimpse into the complexity and richness of this most fundamental question. Perhaps, in the words of the great philosopher Friedrich Nietzsche, \"The meaning of life is the justification of life.\"'"
      ]
     },
     "execution_count": 9,
     "metadata": {},
     "output_type": "execute_result"
    }
   ],
   "source": [
    "chain.invoke({\"input\": \"what is the meaning of life?\"})"
   ]
  },
  {
   "cell_type": "code",
   "execution_count": null,
   "id": "0e2975ee-d060-418f-af40-e4b738f4631d",
   "metadata": {},
   "outputs": [],
   "source": []
  }
 ],
 "metadata": {
  "kernelspec": {
   "display_name": "Python 3 (ipykernel)",
   "language": "python",
   "name": "python3"
  },
  "language_info": {
   "codemirror_mode": {
    "name": "ipython",
    "version": 3
   },
   "file_extension": ".py",
   "mimetype": "text/x-python",
   "name": "python",
   "nbconvert_exporter": "python",
   "pygments_lexer": "ipython3",
   "version": "3.11.7"
  }
 },
 "nbformat": 4,
 "nbformat_minor": 5
}
